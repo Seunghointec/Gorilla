{
 "cells": [
  {
   "cell_type": "code",
   "execution_count": null,
   "metadata": {},
   "outputs": [],
   "source": [
    "#Task 1"
   ]
  },
  {
   "cell_type": "code",
   "execution_count": 134,
   "metadata": {},
   "outputs": [],
   "source": [
    "import pandas as pd\n",
    "import random"
   ]
  },
  {
   "cell_type": "code",
   "execution_count": 135,
   "metadata": {},
   "outputs": [],
   "source": [
    "#locate the file from computer path\n",
    "gas_charge ='/Users/seunghokang/Downloads/gorilla_test/data.xlsx'"
   ]
  },
  {
   "cell_type": "code",
   "execution_count": 136,
   "metadata": {},
   "outputs": [],
   "source": [
    "#data were extracted from each sheet and concatened with new index\n",
    "forecast_sheet = pd.concat(pd.read_excel(gas_charge, sheet_name=['Forecasted Consumption']), ignore_index = True)\n",
    "rate_sheet = pd.concat(pd.read_excel(gas_charge, sheet_name=['Rates']), ignore_index = True)\n",
    "meter_sheet = pd.concat(pd.read_excel(gas_charge, sheet_name=['Meter List']), ignore_index = True)"
   ]
  },
  {
   "cell_type": "code",
   "execution_count": 141,
   "metadata": {},
   "outputs": [
    {
     "name": "stdout",
     "output_type": "stream",
     "text": [
      "     Meter ID  Total Estimated Consumption (kWh)  Total Cost (£)\n",
      "0  1000000603                       24674.000000       22.833364\n",
      "1    10588707                      122449.999999      115.327961\n",
      "2    10626610                      303558.000002      274.531211\n"
     ]
    },
    {
     "name": "stderr",
     "output_type": "stream",
     "text": [
      "/Users/seunghokang/opt/anaconda3/lib/python3.8/site-packages/pandas/core/indexing.py:671: SettingWithCopyWarning: \n",
      "A value is trying to be set on a copy of a slice from a DataFrame\n",
      "\n",
      "See the caveats in the documentation: https://pandas.pydata.org/pandas-docs/stable/user_guide/indexing.html#returning-a-view-versus-a-copy\n",
      "  self._setitem_with_indexer(indexer, value)\n"
     ]
    }
   ],
   "source": [
    "#first we create a DF to store final result, \n",
    "#assign the array since there are three meter ID & three zones\n",
    "#if this is not done, we \n",
    "Cost_table = pd.DataFrame({'Meter ID':[0,0,0],\n",
    "                            'Total Estimated Consumption (kWh)':[0,0,0],\n",
    "                                'Total Cost (£)':[0,0,0]})\n",
    "\n",
    "# We need loop every values from meter list using the positional indexes [0 to n-1] \n",
    "# Because we cannot do \n",
    "for i in range(len(meter_sheet)):\n",
    "    m_reading = meter_sheet.iloc[i] \n",
    "\n",
    "    # Compare Exit Zone and AQ with Rate data to find the correct meter reading for the given days:    \n",
    "    # first we locate and extract exit zone (loc uses the column label) from the rate_sheet to match with exit zone of the correct meterID\n",
    "    exit_zone = rate_sheet.loc[(rate_sheet['Exit Zone']) == m_reading['Exit Zone']]\n",
    "    \n",
    "    # second locate and extract data that have AQ(meter) between AQ(min) and AQ(MAX)\n",
    "    AQ_band = rate_sheet.loc[(m_reading['Annual Quantity (kWh)'] > rate_sheet['Annual Quantity (Min)'])\n",
    "                          & (m_reading['Annual Quantity (kWh)'] < rate_sheet['Annual Quantity (Max)'])]\n",
    "    \n",
    "    # Third locate and extract forecasted dates of exit zones and AQ_band\n",
    "    pred_dates = rate_sheet.loc[(rate_sheet['Date'] >= '2020-09-30') & \n",
    "                          (rate_sheet[\"Date\"] <= '2022-09-30')]\n",
    "    \n",
    "    \n",
    "    # we are duplicating the code (bad practice, combined two DF)\n",
    "    combined = rate_sheet.loc[(rate_sheet['Exit Zone'] == m_reading['Exit Zone']) &\n",
    "                      (m_reading['Annual Quantity (kWh)'] > rate_sheet['Annual Quantity (Min)'])\n",
    "                          & (m_reading['Annual Quantity (kWh)'] < rate_sheet['Annual Quantity (Max)']) &\n",
    "                      (rate_sheet['Date'] >= '2020-10-1') & (rate_sheet['Date'] <= '2022-09-30')].index.values\n",
    "    \n",
    "    #print(combined)\n",
    "\n",
    "    \n",
    "    # now we create a empty table to calculate the rate\n",
    "    # the date from our interest(i.e. forecast sheet)\n",
    "    rate_cal = pd.DataFrame(columns = ('Date','Rate','Day Usuage','Cost per day'))\n",
    "    rate_cal['Date'] = pd.date_range('2020-10-1', '2022-09-30')\n",
    "    # print(rateCal)\n",
    "    \n",
    "    # first we loop the combined\n",
    "    # the rate of daily usuage from rate_sheet will be matched with the date from the combined DF\n",
    "    # second we get the date of rate sheet & combined df and match with newly create df\n",
    "    # third once we get the date, we can add matched daily rate of gas from rate_sheet\n",
    "    # note: we add substract 1 to prevent index out of range \n",
    "    for j in range(len(combined)-1):\n",
    "        #print (j)\n",
    "        rate_cal['Rate'].loc[((rate_cal['Date'] >= rate_sheet['Date'][combined[j]]) & \n",
    "                               (rate_cal['Date'] < rate_sheet['Date'][combined[j+1]])).values] \\\n",
    "                                = rate_sheet['Rate (p/kWh)']\n",
    "    \n",
    "    \n",
    "    # now we can get meter IDs and their associated daily usuage of the meters    \n",
    "    rate_cal['Daily use'] = forecast_sheet['kWh'].loc[(forecast_sheet['Meter ID'] == m_reading['Meter ID'])].values\n",
    "    \n",
    "    # we work out the cost per day\n",
    "    rate_cal['Cost per day'] = rate_cal['Daily use'] * rate_cal['Rate']\n",
    "    \n",
    "    #Finally using the two variables and sum function, we can calculate Total \n",
    "    total_estimated_consumption = rate_cal['Daily use'].sum()\n",
    "    total_cost = rate_cal['Cost per day'].sum() *0.01\n",
    "    \n",
    "    #assigning the values in the DF\n",
    "    Cost_table.iloc[i] = [m_reading['Meter ID'], total_estimated_consumption, total_cost]\n",
    "\n",
    "print(Cost_table)"
   ]
  },
  {
   "cell_type": "code",
   "execution_count": 143,
   "metadata": {},
   "outputs": [],
   "source": [
    "#Task 2"
   ]
  },
  {
   "cell_type": "code",
   "execution_count": null,
   "metadata": {},
   "outputs": [],
   "source": [
    "def random_meter(n=random, randint(0,100)):\n",
    "    "
   ]
  }
 ],
 "metadata": {
  "kernelspec": {
   "display_name": "Python 3",
   "language": "python",
   "name": "python3"
  },
  "language_info": {
   "codemirror_mode": {
    "name": "ipython",
    "version": 3
   },
   "file_extension": ".py",
   "mimetype": "text/x-python",
   "name": "python",
   "nbconvert_exporter": "python",
   "pygments_lexer": "ipython3",
   "version": "3.8.3"
  }
 },
 "nbformat": 4,
 "nbformat_minor": 4
}
